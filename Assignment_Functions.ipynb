{
  "nbformat": 4,
  "nbformat_minor": 0,
  "metadata": {
    "colab": {
      "provenance": []
    },
    "kernelspec": {
      "name": "python3",
      "display_name": "Python 3"
    },
    "language_info": {
      "name": "python"
    }
  },
  "cells": [
    {
      "cell_type": "markdown",
      "source": [
        "**Theory Questions**"
      ],
      "metadata": {
        "id": "Wu1avLtl0oW3"
      }
    },
    {
      "cell_type": "markdown",
      "source": [
        "1. **What is the difference between a function and a method in Python?**\n",
        "- A function is an independent block of code that performs a specific task and can be called anywhere in the program.\n",
        "- A method is a function that is associated with an object and operates on that object."
      ],
      "metadata": {
        "id": "k7TEwuqZ0rtt"
      }
    },
    {
      "cell_type": "code",
      "source": [
        "# Function\n",
        "def greet():\n",
        "    return \"Hello!\"\n",
        "\n",
        "# Method\n",
        "class Person:\n",
        "    def say_hello(self):\n",
        "        return \"Hello!\""
      ],
      "metadata": {
        "id": "rnCNzxTp5dLK"
      },
      "execution_count": null,
      "outputs": []
    },
    {
      "cell_type": "markdown",
      "source": [
        "2. **Function arguments and parameters in Python.**\n",
        "- Parameters are variables defined in a function signature, where as Arguments are actual values passed when calling a function."
      ],
      "metadata": {
        "id": "jxpS4Z2C50DD"
      }
    },
    {
      "cell_type": "code",
      "source": [
        "def add(a, b):  # 'a' and 'b' are parameters\n",
        "    return a + b\n",
        "\n",
        "result = add(5, 3)  # 5 and 3 are arguments"
      ],
      "metadata": {
        "id": "VBk2nYN_79BD"
      },
      "execution_count": null,
      "outputs": []
    },
    {
      "cell_type": "markdown",
      "source": [
        "3. **Ways to define and call a function in Python**\n",
        "- Standard function definition: def func_name():\n",
        "- Calling the function: func_name()"
      ],
      "metadata": {
        "id": "j8gjijGPLxYK"
      }
    },
    {
      "cell_type": "code",
      "source": [
        "def square(x):\n",
        "    return x * x\n",
        "\n",
        "print(square(5))"
      ],
      "metadata": {
        "id": "HdEWNMReMM8J"
      },
      "execution_count": null,
      "outputs": []
    },
    {
      "cell_type": "markdown",
      "source": [
        "4. **Purpose of the return statement in a Python function**\n",
        "-  The return statement is used to send back a value from a function."
      ],
      "metadata": {
        "id": "si1mxPHAMTbJ"
      }
    },
    {
      "cell_type": "code",
      "source": [
        "def add(a, b):\n",
        "    return a + b\n",
        "\n",
        "result = add(2, 3)\n",
        "print(result)"
      ],
      "metadata": {
        "id": "XbrHGHUJMYJa"
      },
      "execution_count": null,
      "outputs": []
    },
    {
      "cell_type": "markdown",
      "source": [
        "5. **Iterators vs. Iterables in Python**\n",
        "-  Iterable: An object that can return an iterator (e.g., list, tuple, dictionary).\n",
        "-  Iterator: An object that implements __iter__() and __next__()."
      ],
      "metadata": {
        "id": "0V07QD8gMmL5"
      }
    },
    {
      "cell_type": "code",
      "source": [
        "my_list = [1, 2, 3]\n",
        "iter_obj = iter(my_list)\n",
        "\n",
        "print(next(iter_obj))\n",
        "print(next(iter_obj))"
      ],
      "metadata": {
        "id": "isu9f8ziMs53"
      },
      "execution_count": null,
      "outputs": []
    },
    {
      "cell_type": "markdown",
      "source": [
        "6. **Concept of Generators in Python**\n",
        "-  A generator is a function that returns an iterator using the yield keyword."
      ],
      "metadata": {
        "id": "fGfjfE1UMwBA"
      }
    },
    {
      "cell_type": "code",
      "source": [
        "def my_gen():\n",
        "    yield 1\n",
        "    yield 2\n",
        "\n",
        "gen = my_gen()\n",
        "print(next(gen))\n",
        "print(next(gen))"
      ],
      "metadata": {
        "id": "hdX75jUENC7D"
      },
      "execution_count": null,
      "outputs": []
    },
    {
      "cell_type": "markdown",
      "source": [
        "7. **Advantages of Generators over Regular Functions**\n",
        "-  Uses less memory (lazy evaluation).\n",
        "-  Improves performance for large datasets.\n",
        "-  Example: File reading line by line."
      ],
      "metadata": {
        "id": "vUHfDWGTNFvR"
      }
    },
    {
      "cell_type": "markdown",
      "source": [
        "8. **Lambda Functions in Python**\n",
        "-  A lambda function is an anonymous function defined using lambda keyword."
      ],
      "metadata": {
        "id": "YzW31RAENis2"
      }
    },
    {
      "cell_type": "code",
      "source": [
        "square = lambda x: x * x\n",
        "print(square(5))"
      ],
      "metadata": {
        "id": "yceAk7OINmv7"
      },
      "execution_count": null,
      "outputs": []
    },
    {
      "cell_type": "markdown",
      "source": [
        "9. **Purpose and Usage of map() Function**\n",
        "-  map() applies a function to all items in an iterable."
      ],
      "metadata": {
        "id": "h3gMuGC7Npa3"
      }
    },
    {
      "cell_type": "code",
      "source": [
        "nums = [1, 2, 3]\n",
        "squares = list(map(lambda x: x * x, nums))\n",
        "print(squares)"
      ],
      "metadata": {
        "id": "6gyg6eM5NxOR"
      },
      "execution_count": null,
      "outputs": []
    },
    {
      "cell_type": "markdown",
      "source": [
        "10. **Difference between map(), reduce(), and filter()**\n",
        "-   map(): Transforms all items in an iterable.\n",
        "-   filter(): Filters items based on a condition.\n",
        "-   reduce(): Applies a function cumulatively."
      ],
      "metadata": {
        "id": "EbRgrgCUN3dp"
      }
    },
    {
      "cell_type": "code",
      "source": [
        "from functools import reduce\n",
        "nums = [1, 2, 3, 4]\n",
        "print(list(map(lambda x: x * 2, nums)))\n",
        "print(list(filter(lambda x: x % 2 == 0, nums)))\n",
        "print(reduce(lambda x, y: x + y, nums))"
      ],
      "metadata": {
        "id": "7ke2q8uROBGS"
      },
      "execution_count": null,
      "outputs": []
    },
    {
      "cell_type": "markdown",
      "source": [
        "**Practical Questions**"
      ],
      "metadata": {
        "id": "gy4dlPrJZqYS"
      }
    },
    {
      "cell_type": "code",
      "source": [
        "# 1. Sum of all even numbers in a list\n",
        "\n",
        "def sum_even_numbers(lst):\n",
        "    return sum(num for num in lst if num % 2 == 0)\n",
        "\n",
        "print(sum_even_numbers([1, 2, 3, 4, 5, 6]))"
      ],
      "metadata": {
        "id": "R0XtOdX0ZrXE"
      },
      "execution_count": null,
      "outputs": []
    },
    {
      "cell_type": "code",
      "source": [
        "# 2. Reverse a string\n",
        "\n",
        "def reverse_string(s):\n",
        "    return s[::-1]\n",
        "\n",
        "print(reverse_string(\"hello\"))"
      ],
      "metadata": {
        "id": "VfhUaD-6aE7D"
      },
      "execution_count": null,
      "outputs": []
    },
    {
      "cell_type": "code",
      "source": [
        "# 3. Return squares of numbers in a list\n",
        "\n",
        "def square_list(lst):\n",
        "    return [x * x for x in lst]\n",
        "\n",
        "print(square_list([1, 2, 3]))"
      ],
      "metadata": {
        "id": "vWfHhoVfaMGB"
      },
      "execution_count": null,
      "outputs": []
    },
    {
      "cell_type": "code",
      "source": [
        "# 4. Check if a number is prime (1 to 200)\n",
        "\n",
        "def is_prime(n):\n",
        "    if n < 2:\n",
        "        return False\n",
        "    for i in range(2, int(n**0.5) + 1):\n",
        "        if n % i == 0:\n",
        "            return False\n",
        "    return True\n",
        "\n",
        "primes = [n for n in range(1, 201) if is_prime(n)]\n",
        "print(primes)"
      ],
      "metadata": {
        "id": "NHhJVczaaVha"
      },
      "execution_count": null,
      "outputs": []
    },
    {
      "cell_type": "code",
      "source": [
        "# 5. Fibonacci Iterator Class\n",
        "\n",
        "class Fibonacci:\n",
        "    def __init__(self, n):\n",
        "        self.n = n\n",
        "        self.a, self.b = 0, 1\n",
        "        self.count = 0\n",
        "\n",
        "    def __iter__(self):\n",
        "        return self\n",
        "\n",
        "    def __next__(self):\n",
        "        if self.count >= self.n:\n",
        "            raise StopIteration\n",
        "        result = self.a\n",
        "        self.a, self.b = self.b, self.a + self.b\n",
        "        self.count += 1\n",
        "        return result\n",
        "\n",
        "fib = Fibonacci(10)\n",
        "print(list(fib))"
      ],
      "metadata": {
        "id": "EDY900Naaat4"
      },
      "execution_count": null,
      "outputs": []
    },
    {
      "cell_type": "code",
      "source": [
        "# 6. Generator for powers of 2\n",
        "\n",
        "def power_of_2(n):\n",
        "    for i in range(n + 1):\n",
        "        yield 2 ** i\n",
        "\n",
        "print(list(power_of_2(5)))"
      ],
      "metadata": {
        "id": "fnr7OOvkaf_s"
      },
      "execution_count": null,
      "outputs": []
    },
    {
      "cell_type": "code",
      "source": [
        "# 7. File reading generator\n",
        "\n",
        "def read_file(filename):\n",
        "    with open(filename, 'r') as file:\n",
        "        for line in file:\n",
        "            yield line.strip()\n",
        "\n",
        "for line in read_file(\"test.txt\"):\n",
        "    print(line)"
      ],
      "metadata": {
        "id": "YGFMz-OWakbJ"
      },
      "execution_count": null,
      "outputs": []
    },
    {
      "cell_type": "code",
      "source": [
        "# 8. Sort list of tuples using lambda\n",
        "\n",
        "data = [(1, 4), (2, 3), (3, 2)]\n",
        "data.sort(key=lambda x: x[1])\n",
        "print(data)"
      ],
      "metadata": {
        "id": "GtMnkHOsapaL"
      },
      "execution_count": null,
      "outputs": []
    },
    {
      "cell_type": "code",
      "source": [
        "# 9. Convert Celsius to Fahrenheit using map()\n",
        "\n",
        "celsius = [0, 10, 20, 30]\n",
        "fahrenheit = list(map(lambda c: (c * 9/5) + 32, celsius))\n",
        "print(fahrenheit)"
      ],
      "metadata": {
        "id": "SiNBZ8Utas9b"
      },
      "execution_count": null,
      "outputs": []
    },
    {
      "cell_type": "code",
      "source": [
        "# 10. Remove vowels using filter()\n",
        "\n",
        "def remove_vowels(s):\n",
        "    return \"\".join(filter(lambda x: x.lower() not in \"aeiou\", s))\n",
        "\n",
        "print(remove_vowels(\"hello world\"))"
      ],
      "metadata": {
        "id": "1OOBAw5Qaw3a"
      },
      "execution_count": null,
      "outputs": []
    },
    {
      "cell_type": "code",
      "source": [
        "# 11. Accounting routine using lambda and map()\n",
        "\n",
        "orders = [(34587, 4, 40.95), (98762, 5, 56.80), (77226, 3, 32.95)]\n",
        "result = list(map(lambda x: (x[0], x[1] * x[2] + (10 if x[1] * x[2] < 100 else 0)), orders))\n",
        "print(result)"
      ],
      "metadata": {
        "id": "Sc-SkSOVa3ZU"
      },
      "execution_count": null,
      "outputs": []
    }
  ]
}